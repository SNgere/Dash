{
 "cells": [
  {
   "cell_type": "code",
   "execution_count": 4,
   "id": "59ca0cae",
   "metadata": {},
   "outputs": [
    {
     "data": {
      "text/plain": [
       "<duckdb.duckdb.DuckDBPyConnection at 0x20285cd4df0>"
      ]
     },
     "execution_count": 4,
     "metadata": {},
     "output_type": "execute_result"
    }
   ],
   "source": [
    "import duckdb\n",
    "\n",
    "# Connect to (or create) a DuckDB file\n",
    "con = duckdb.connect(\"crashes.duckdb\")\n",
    "\n",
    "# Create a table inside DuckDB from the Parquet file\n",
    "con.execute(\"\"\"\n",
    "    CREATE OR REPLACE TABLE crashes AS \n",
    "    SELECT \n",
    "        BOROUGH,\n",
    "        EXTRACT(YEAR FROM \"CRASH DATE\") AS YEAR,\n",
    "        COALESCE(\"NUMBER OF PERSONS KILLED\", 0) AS PERSONS_KILLED,\n",
    "        COALESCE(\"NUMBER OF PERSONS INJURED\", 0) AS PERSONS_INJURED\n",
    "    FROM 'crashes.parquet'\n",
    "\"\"\")"
   ]
  },
  {
   "cell_type": "code",
   "execution_count": 5,
   "id": "4e44f06c",
   "metadata": {},
   "outputs": [
    {
     "name": "stdout",
     "output_type": "stream",
     "text": [
      "[(1989065,)]\n"
     ]
    }
   ],
   "source": [
    "print(con.execute(\"SELECT COUNT(*) FROM crashes\").fetchall())"
   ]
  },
  {
   "cell_type": "code",
   "execution_count": 6,
   "id": "4b872a82",
   "metadata": {},
   "outputs": [],
   "source": [
    "# create a persistent connection to the DuckDB file\n",
    "con = duckdb.connect(\"crashes.duckdb\")"
   ]
  },
  {
   "cell_type": "code",
   "execution_count": 12,
   "id": "d7311d94",
   "metadata": {},
   "outputs": [
    {
     "data": {
      "text/html": [
       "<div>\n",
       "<style scoped>\n",
       "    .dataframe tbody tr th:only-of-type {\n",
       "        vertical-align: middle;\n",
       "    }\n",
       "\n",
       "    .dataframe tbody tr th {\n",
       "        vertical-align: top;\n",
       "    }\n",
       "\n",
       "    .dataframe thead th {\n",
       "        text-align: right;\n",
       "    }\n",
       "</style>\n",
       "<table border=\"1\" class=\"dataframe\">\n",
       "  <thead>\n",
       "    <tr style=\"text-align: right;\">\n",
       "      <th></th>\n",
       "      <th>BOROUGH</th>\n",
       "      <th>YEAR</th>\n",
       "      <th>PERSONS_KILLED</th>\n",
       "      <th>PERSONS_INJURED</th>\n",
       "    </tr>\n",
       "  </thead>\n",
       "  <tbody>\n",
       "    <tr>\n",
       "      <th>0</th>\n",
       "      <td>BROOKLYN</td>\n",
       "      <td>2023</td>\n",
       "      <td>0.0</td>\n",
       "      <td>1.0</td>\n",
       "    </tr>\n",
       "    <tr>\n",
       "      <th>1</th>\n",
       "      <td>BROOKLYN</td>\n",
       "      <td>2021</td>\n",
       "      <td>0.0</td>\n",
       "      <td>0.0</td>\n",
       "    </tr>\n",
       "    <tr>\n",
       "      <th>2</th>\n",
       "      <td>BROOKLYN</td>\n",
       "      <td>2021</td>\n",
       "      <td>0.0</td>\n",
       "      <td>0.0</td>\n",
       "    </tr>\n",
       "    <tr>\n",
       "      <th>3</th>\n",
       "      <td>BROOKLYN</td>\n",
       "      <td>2021</td>\n",
       "      <td>0.0</td>\n",
       "      <td>0.0</td>\n",
       "    </tr>\n",
       "    <tr>\n",
       "      <th>4</th>\n",
       "      <td>BRONX</td>\n",
       "      <td>2021</td>\n",
       "      <td>0.0</td>\n",
       "      <td>2.0</td>\n",
       "    </tr>\n",
       "  </tbody>\n",
       "</table>\n",
       "</div>"
      ],
      "text/plain": [
       "    BOROUGH  YEAR  PERSONS_KILLED  PERSONS_INJURED\n",
       "0  BROOKLYN  2023             0.0              1.0\n",
       "1  BROOKLYN  2021             0.0              0.0\n",
       "2  BROOKLYN  2021             0.0              0.0\n",
       "3  BROOKLYN  2021             0.0              0.0\n",
       "4     BRONX  2021             0.0              2.0"
      ]
     },
     "execution_count": 12,
     "metadata": {},
     "output_type": "execute_result"
    }
   ],
   "source": [
    "df = con.execute(\"SELECT * FROM crashes\").df()\n",
    "df.head()"
   ]
  },
  {
   "cell_type": "code",
   "execution_count": 13,
   "id": "83ba2d22",
   "metadata": {},
   "outputs": [
    {
     "data": {
      "text/plain": [
       "(1989065, 4)"
      ]
     },
     "execution_count": 13,
     "metadata": {},
     "output_type": "execute_result"
    }
   ],
   "source": [
    "df.shape"
   ]
  },
  {
   "cell_type": "code",
   "execution_count": null,
   "id": "4dbe0c1e",
   "metadata": {},
   "outputs": [],
   "source": []
  }
 ],
 "metadata": {
  "kernelspec": {
   "display_name": "nyc",
   "language": "python",
   "name": "python3"
  },
  "language_info": {
   "codemirror_mode": {
    "name": "ipython",
    "version": 3
   },
   "file_extension": ".py",
   "mimetype": "text/x-python",
   "name": "python",
   "nbconvert_exporter": "python",
   "pygments_lexer": "ipython3",
   "version": "3.13.5"
  }
 },
 "nbformat": 4,
 "nbformat_minor": 5
}
