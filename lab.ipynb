{
 "cells": [
  {
   "cell_type": "code",
   "execution_count": 1,
   "id": "e02dd357",
   "metadata": {},
   "outputs": [],
   "source": [
    "import duckdb"
   ]
  },
  {
   "cell_type": "code",
   "execution_count": null,
   "id": "9d218fab",
   "metadata": {},
   "outputs": [],
   "source": [
    "con = duckdb.connect(\"crashes.duckdb\")"
   ]
  },
  {
   "cell_type": "code",
   "execution_count": 5,
   "id": "59ca0cae",
   "metadata": {},
   "outputs": [
    {
     "data": {
      "text/plain": [
       "<duckdb.duckdb.DuckDBPyConnection at 0x235fc352bf0>"
      ]
     },
     "execution_count": 5,
     "metadata": {},
     "output_type": "execute_result"
    }
   ],
   "source": [
    "con = duckdb.connect(\"crashes.duckdb\")\n",
    "\n",
    "# Create a table inside DuckDB from the Parquet file\n",
    "con.execute(\"\"\"\n",
    "    CREATE OR REPLACE TABLE crashes AS \n",
    "    SELECT \n",
    "        BOROUGH,\n",
    "        DAYNAME(\"CRASH DATE\") AS WEEKDAY,\n",
    "        EXTRACT(YEAR FROM \"CRASH DATE\") AS YEAR,\n",
    "        COALESCE(\"NUMBER OF PERSONS KILLED\", 0) AS PERSONS_KILLED,\n",
    "        COALESCE(\"NUMBER OF PERSONS INJURED\", 0) AS PERSONS_INJURED,\n",
    "        \"CONTRIBUTING FACTOR VEHICLE 1\",\n",
    "        \"CONTRIBUTING FACTOR VEHICLE 2\",\n",
    "        \"CONTRIBUTING FACTOR VEHICLE 3\",\n",
    "        \"CONTRIBUTING FACTOR VEHICLE 4\",\n",
    "        \"CONTRIBUTING FACTOR VEHICLE 5\"\n",
    "    FROM 'crashes.parquet'\n",
    "\"\"\")"
   ]
  },
  {
   "cell_type": "code",
   "execution_count": null,
   "id": "4e44f06c",
   "metadata": {},
   "outputs": [],
   "source": [
    "print(con.execute(\"SELECT COUNT(*) FROM crashes\").fetchall())"
   ]
  },
  {
   "cell_type": "code",
   "execution_count": null,
   "id": "4b872a82",
   "metadata": {},
   "outputs": [],
   "source": [
    "# create a persistent connection to the DuckDB file\n",
    "# con = duckdb.connect(\"crashes.duckdb\", read_only=True)"
   ]
  },
  {
   "cell_type": "code",
   "execution_count": 8,
   "id": "d7311d94",
   "metadata": {},
   "outputs": [
    {
     "data": {
      "text/html": [
       "<div>\n",
       "<style scoped>\n",
       "    .dataframe tbody tr th:only-of-type {\n",
       "        vertical-align: middle;\n",
       "    }\n",
       "\n",
       "    .dataframe tbody tr th {\n",
       "        vertical-align: top;\n",
       "    }\n",
       "\n",
       "    .dataframe thead th {\n",
       "        text-align: right;\n",
       "    }\n",
       "</style>\n",
       "<table border=\"1\" class=\"dataframe\">\n",
       "  <thead>\n",
       "    <tr style=\"text-align: right;\">\n",
       "      <th></th>\n",
       "      <th>BOROUGH</th>\n",
       "      <th>WEEKDAY</th>\n",
       "      <th>YEAR</th>\n",
       "      <th>PERSONS_KILLED</th>\n",
       "      <th>PERSONS_INJURED</th>\n",
       "      <th>CONTRIBUTING FACTOR VEHICLE 1</th>\n",
       "      <th>CONTRIBUTING FACTOR VEHICLE 2</th>\n",
       "      <th>CONTRIBUTING FACTOR VEHICLE 3</th>\n",
       "      <th>CONTRIBUTING FACTOR VEHICLE 4</th>\n",
       "      <th>CONTRIBUTING FACTOR VEHICLE 5</th>\n",
       "    </tr>\n",
       "  </thead>\n",
       "  <tbody>\n",
       "    <tr>\n",
       "      <th>0</th>\n",
       "      <td>BROOKLYN</td>\n",
       "      <td>Wednesday</td>\n",
       "      <td>2023</td>\n",
       "      <td>0.0</td>\n",
       "      <td>1.0</td>\n",
       "      <td>Unspecified</td>\n",
       "      <td>Unspecified</td>\n",
       "      <td>Unspecified</td>\n",
       "      <td>None</td>\n",
       "      <td>None</td>\n",
       "    </tr>\n",
       "    <tr>\n",
       "      <th>1</th>\n",
       "      <td>BROOKLYN</td>\n",
       "      <td>Saturday</td>\n",
       "      <td>2021</td>\n",
       "      <td>0.0</td>\n",
       "      <td>0.0</td>\n",
       "      <td>Unspecified</td>\n",
       "      <td>None</td>\n",
       "      <td>None</td>\n",
       "      <td>None</td>\n",
       "      <td>None</td>\n",
       "    </tr>\n",
       "    <tr>\n",
       "      <th>2</th>\n",
       "      <td>BROOKLYN</td>\n",
       "      <td>Tuesday</td>\n",
       "      <td>2021</td>\n",
       "      <td>0.0</td>\n",
       "      <td>0.0</td>\n",
       "      <td>None</td>\n",
       "      <td>None</td>\n",
       "      <td>None</td>\n",
       "      <td>None</td>\n",
       "      <td>None</td>\n",
       "    </tr>\n",
       "    <tr>\n",
       "      <th>3</th>\n",
       "      <td>BROOKLYN</td>\n",
       "      <td>Tuesday</td>\n",
       "      <td>2021</td>\n",
       "      <td>0.0</td>\n",
       "      <td>0.0</td>\n",
       "      <td>Passing Too Closely</td>\n",
       "      <td>Unspecified</td>\n",
       "      <td>None</td>\n",
       "      <td>None</td>\n",
       "      <td>None</td>\n",
       "    </tr>\n",
       "    <tr>\n",
       "      <th>4</th>\n",
       "      <td>BRONX</td>\n",
       "      <td>Tuesday</td>\n",
       "      <td>2021</td>\n",
       "      <td>0.0</td>\n",
       "      <td>2.0</td>\n",
       "      <td>Unspecified</td>\n",
       "      <td>Unspecified</td>\n",
       "      <td>None</td>\n",
       "      <td>None</td>\n",
       "      <td>None</td>\n",
       "    </tr>\n",
       "  </tbody>\n",
       "</table>\n",
       "</div>"
      ],
      "text/plain": [
       "    BOROUGH    WEEKDAY  YEAR  PERSONS_KILLED  PERSONS_INJURED  \\\n",
       "0  BROOKLYN  Wednesday  2023             0.0              1.0   \n",
       "1  BROOKLYN   Saturday  2021             0.0              0.0   \n",
       "2  BROOKLYN    Tuesday  2021             0.0              0.0   \n",
       "3  BROOKLYN    Tuesday  2021             0.0              0.0   \n",
       "4     BRONX    Tuesday  2021             0.0              2.0   \n",
       "\n",
       "  CONTRIBUTING FACTOR VEHICLE 1 CONTRIBUTING FACTOR VEHICLE 2  \\\n",
       "0                   Unspecified                   Unspecified   \n",
       "1                   Unspecified                          None   \n",
       "2                          None                          None   \n",
       "3           Passing Too Closely                   Unspecified   \n",
       "4                   Unspecified                   Unspecified   \n",
       "\n",
       "  CONTRIBUTING FACTOR VEHICLE 3 CONTRIBUTING FACTOR VEHICLE 4  \\\n",
       "0                   Unspecified                          None   \n",
       "1                          None                          None   \n",
       "2                          None                          None   \n",
       "3                          None                          None   \n",
       "4                          None                          None   \n",
       "\n",
       "  CONTRIBUTING FACTOR VEHICLE 5  \n",
       "0                          None  \n",
       "1                          None  \n",
       "2                          None  \n",
       "3                          None  \n",
       "4                          None  "
      ]
     },
     "execution_count": 8,
     "metadata": {},
     "output_type": "execute_result"
    }
   ],
   "source": [
    "df = con.execute(\"SELECT * FROM crashes\").df()\n",
    "df.head()"
   ]
  },
  {
   "cell_type": "code",
   "execution_count": null,
   "id": "83ba2d22",
   "metadata": {},
   "outputs": [],
   "source": [
    "df.shape"
   ]
  },
  {
   "cell_type": "markdown",
   "id": "6d717891",
   "metadata": {},
   "source": [
    "#### day"
   ]
  },
  {
   "cell_type": "code",
   "execution_count": 9,
   "id": "07aff825",
   "metadata": {},
   "outputs": [
    {
     "data": {
      "text/html": [
       "<div>\n",
       "<style scoped>\n",
       "    .dataframe tbody tr th:only-of-type {\n",
       "        vertical-align: middle;\n",
       "    }\n",
       "\n",
       "    .dataframe tbody tr th {\n",
       "        vertical-align: top;\n",
       "    }\n",
       "\n",
       "    .dataframe thead th {\n",
       "        text-align: right;\n",
       "    }\n",
       "</style>\n",
       "<table border=\"1\" class=\"dataframe\">\n",
       "  <thead>\n",
       "    <tr style=\"text-align: right;\">\n",
       "      <th></th>\n",
       "      <th>WEEKDAY</th>\n",
       "      <th>counts</th>\n",
       "    </tr>\n",
       "  </thead>\n",
       "  <tbody>\n",
       "    <tr>\n",
       "      <th>0</th>\n",
       "      <td>Friday</td>\n",
       "      <td>316505</td>\n",
       "    </tr>\n",
       "    <tr>\n",
       "      <th>1</th>\n",
       "      <td>Thursday</td>\n",
       "      <td>296651</td>\n",
       "    </tr>\n",
       "    <tr>\n",
       "      <th>2</th>\n",
       "      <td>Tuesday</td>\n",
       "      <td>292430</td>\n",
       "    </tr>\n",
       "    <tr>\n",
       "      <th>3</th>\n",
       "      <td>Wednesday</td>\n",
       "      <td>290171</td>\n",
       "    </tr>\n",
       "    <tr>\n",
       "      <th>4</th>\n",
       "      <td>Monday</td>\n",
       "      <td>284488</td>\n",
       "    </tr>\n",
       "    <tr>\n",
       "      <th>5</th>\n",
       "      <td>Saturday</td>\n",
       "      <td>268874</td>\n",
       "    </tr>\n",
       "    <tr>\n",
       "      <th>6</th>\n",
       "      <td>Sunday</td>\n",
       "      <td>239946</td>\n",
       "    </tr>\n",
       "  </tbody>\n",
       "</table>\n",
       "</div>"
      ],
      "text/plain": [
       "     WEEKDAY  counts\n",
       "0     Friday  316505\n",
       "1   Thursday  296651\n",
       "2    Tuesday  292430\n",
       "3  Wednesday  290171\n",
       "4     Monday  284488\n",
       "5   Saturday  268874\n",
       "6     Sunday  239946"
      ]
     },
     "execution_count": 9,
     "metadata": {},
     "output_type": "execute_result"
    }
   ],
   "source": [
    "df = con.execute(\"\"\"\n",
    "    SELECT WEEKDAY, COUNT(WEEKDAY) AS counts\n",
    "    FROM crashes\n",
    "    GROUP BY WEEKDAY\n",
    "    ORDER BY counts DESC;\n",
    " \"\"\").df()\n",
    "\n",
    "df.head(7)"
   ]
  },
  {
   "cell_type": "markdown",
   "id": "b96949bb",
   "metadata": {},
   "source": [
    "#### word"
   ]
  },
  {
   "cell_type": "code",
   "execution_count": null,
   "id": "5f56963c",
   "metadata": {},
   "outputs": [],
   "source": [
    "df = con.execute(\"\"\"\n",
    "    WITH factors AS (\n",
    "    SELECT \"CONTRIBUTING FACTOR VEHICLE 1\" AS reasons\n",
    "    FROM crashes\n",
    "    WHERE BOROUGH IN ? AND YEAR BETWEEN ? AND ?\n",
    "    UNION ALL\n",
    "    SELECT \"CONTRIBUTING FACTOR VEHICLE 2\"\n",
    "    FROM crashes\n",
    "    WHERE BOROUGH IN ? AND YEAR BETWEEN ? AND ?\n",
    "    UNION ALL\n",
    "    SELECT \"CONTRIBUTING FACTOR VEHICLE 3\"\n",
    "    FROM crashes\n",
    "    WHERE BOROUGH IN ? AND YEAR BETWEEN ? AND ?\n",
    "    UNION ALL\n",
    "    SELECT \"CONTRIBUTING FACTOR VEHICLE 4\"\n",
    "    FROM crashes\n",
    "    WHERE BOROUGH IN ? AND YEAR BETWEEN ? AND ?\n",
    "    UNION ALL\n",
    "    SELECT \"CONTRIBUTING FACTOR VEHICLE 5\"\n",
    "    FROM crashes\n",
    "    WHERE BOROUGH IN ? AND YEAR BETWEEN ? AND ?\n",
    ")\n",
    "SELECT reasons, COUNT(*) AS Count\n",
    "FROM factors\n",
    "WHERE reasons IS NOT NULL\n",
    "GROUP BY reasons\n",
    "ORDER BY Count DESC\n",
    "LIMIT 25;\n",
    " \"\"\").df()"
   ]
  },
  {
   "cell_type": "code",
   "execution_count": null,
   "id": "beb0071a",
   "metadata": {},
   "outputs": [],
   "source": [
    "df = con.execute(\"\"\"\n",
    "    WITH factors AS (\n",
    "    SELECT Year, \"CONTRIBUTING FACTOR VEHICLE 1\" AS reasons\n",
    "    FROM crashes\n",
    "    UNION ALL\n",
    "    SELECT Year, \"CONTRIBUTING FACTOR VEHICLE 2\"\n",
    "    FROM crashes\n",
    "    UNION ALL\n",
    "    SELECT Year, \"CONTRIBUTING FACTOR VEHICLE 3\"\n",
    "    FROM crashes\n",
    "    UNION ALL\n",
    "    SELECT Year, \"CONTRIBUTING FACTOR VEHICLE 4\"\n",
    "    FROM crashes\n",
    "    UNION ALL\n",
    "    SELECT Year, \"CONTRIBUTING FACTOR VEHICLE 5\"\n",
    "    FROM crashes\n",
    "),\n",
    "reasons AS (\n",
    "    SELECT Year, reasons\n",
    "    FROM factors\n",
    "    WHERE YEAR BETWEEN 2020 AND 2021\n",
    "),\n",
    "words AS (\n",
    "    SELECT reasons, COUNT(reasons) AS Count\n",
    "    FROM reasons\n",
    "    GROUP BY reasons\n",
    "    ORDER BY Count DESC\n",
    ") \n",
    "SELECT * \n",
    "FROM words\n",
    "\"\"\").df()"
   ]
  },
  {
   "cell_type": "code",
   "execution_count": null,
   "id": "ba125f0e",
   "metadata": {},
   "outputs": [],
   "source": [
    "df.head(30)"
   ]
  },
  {
   "cell_type": "code",
   "execution_count": null,
   "id": "b365e418",
   "metadata": {},
   "outputs": [],
   "source": [
    "df.shape"
   ]
  },
  {
   "cell_type": "markdown",
   "id": "a218ad6d",
   "metadata": {},
   "source": [
    "#### kpi"
   ]
  },
  {
   "cell_type": "code",
   "execution_count": null,
   "id": "4bc55ed6",
   "metadata": {},
   "outputs": [],
   "source": [
    "kpi_query = con.execute(\"\"\"\n",
    "    SELECT \n",
    "        COUNT(*) AS total_collisions, \n",
    "        SUM(PERSONS_KILLED) AS persons_killed, \n",
    "        SUM(PERSONS_INJURED) AS persons_injured\n",
    "    FROM crashes\n",
    "\"\"\").fetchone()\n",
    "\n",
    "total_collisions, persons_killed, persons_injured = map(int, kpi_query)"
   ]
  }
 ],
 "metadata": {
  "kernelspec": {
   "display_name": "nyc",
   "language": "python",
   "name": "python3"
  },
  "language_info": {
   "codemirror_mode": {
    "name": "ipython",
    "version": 3
   },
   "file_extension": ".py",
   "mimetype": "text/x-python",
   "name": "python",
   "nbconvert_exporter": "python",
   "pygments_lexer": "ipython3",
   "version": "3.13.5"
  }
 },
 "nbformat": 4,
 "nbformat_minor": 5
}
