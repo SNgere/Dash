{
 "cells": [
  {
   "cell_type": "code",
   "execution_count": 1,
   "id": "e02dd357",
   "metadata": {},
   "outputs": [],
   "source": [
    "import duckdb"
   ]
  },
  {
   "cell_type": "code",
   "execution_count": 2,
   "id": "59ca0cae",
   "metadata": {},
   "outputs": [
    {
     "data": {
      "text/plain": [
       "<duckdb.duckdb.DuckDBPyConnection at 0x1eb21ecdd70>"
      ]
     },
     "execution_count": 2,
     "metadata": {},
     "output_type": "execute_result"
    }
   ],
   "source": [
    "# Connect to (or create) a DuckDB file\n",
    "con = duckdb.connect(\"crashes.duckdb\")\n",
    "\n",
    "# Create a table inside DuckDB from the Parquet file\n",
    "con.execute(\"\"\"\n",
    "    CREATE OR REPLACE TABLE crashes AS \n",
    "    SELECT \n",
    "        BOROUGH,\n",
    "        EXTRACT(YEAR FROM \"CRASH DATE\") AS YEAR,\n",
    "        COALESCE(\"NUMBER OF PERSONS KILLED\", 0) AS PERSONS_KILLED,\n",
    "        COALESCE(\"NUMBER OF PERSONS INJURED\", 0) AS PERSONS_INJURED\n",
    "    FROM 'crashes.parquet'\n",
    "\"\"\")"
   ]
  },
  {
   "cell_type": "code",
   "execution_count": 3,
   "id": "4e44f06c",
   "metadata": {},
   "outputs": [
    {
     "name": "stdout",
     "output_type": "stream",
     "text": [
      "[(1989065,)]\n"
     ]
    }
   ],
   "source": [
    "print(con.execute(\"SELECT COUNT(*) FROM crashes\").fetchall())"
   ]
  },
  {
   "cell_type": "code",
   "execution_count": null,
   "id": "4b872a82",
   "metadata": {},
   "outputs": [],
   "source": [
    "# create a persistent connection to the DuckDB file\n",
    "con = duckdb.connect(\"crashes.duckdb\")"
   ]
  },
  {
   "cell_type": "code",
   "execution_count": null,
   "id": "d7311d94",
   "metadata": {},
   "outputs": [],
   "source": [
    "df = con.execute(\"SELECT * FROM crashes\").df()\n",
    "df.head()"
   ]
  },
  {
   "cell_type": "code",
   "execution_count": null,
   "id": "83ba2d22",
   "metadata": {},
   "outputs": [],
   "source": [
    "df.shape"
   ]
  },
  {
   "cell_type": "code",
   "execution_count": null,
   "id": "4dbe0c1e",
   "metadata": {},
   "outputs": [],
   "source": [
    "total_crashes = con.execute(\"SELECT COUNT(*) FROM crashes\").fetchall()[0]\n",
    "total_crashes"
   ]
  },
  {
   "cell_type": "code",
   "execution_count": null,
   "id": "885f199d",
   "metadata": {},
   "outputs": [],
   "source": [
    "con.execute(\"\"\"\n",
    "    SELECT \n",
    "        COUNT(*) AS total_collisions, \n",
    "        SUM(PERSONS_KILLED) AS persons_killed, \n",
    "        SUM(PERSONS_INJURED) AS persons_injured\n",
    "    FROM crashes\n",
    "\"\"\").fetchone()"
   ]
  },
  {
   "cell_type": "code",
   "execution_count": null,
   "id": "4bc55ed6",
   "metadata": {},
   "outputs": [],
   "source": [
    "kpi_query = con.execute(\"\"\"\n",
    "    SELECT \n",
    "        COUNT(*) AS total_collisions, \n",
    "        SUM(PERSONS_KILLED) AS persons_killed, \n",
    "        SUM(PERSONS_INJURED) AS persons_injured\n",
    "    FROM crashes\n",
    "\"\"\").fetchone()"
   ]
  },
  {
   "cell_type": "code",
   "execution_count": null,
   "id": "702be22b",
   "metadata": {},
   "outputs": [],
   "source": [
    "total_collisions, persons_killed, persons_injured = map(int, kpi_query)"
   ]
  },
  {
   "cell_type": "code",
   "execution_count": null,
   "id": "ec267f81",
   "metadata": {},
   "outputs": [],
   "source": [
    "persons_injured"
   ]
  }
 ],
 "metadata": {
  "kernelspec": {
   "display_name": "nyc",
   "language": "python",
   "name": "python3"
  },
  "language_info": {
   "codemirror_mode": {
    "name": "ipython",
    "version": 3
   },
   "file_extension": ".py",
   "mimetype": "text/x-python",
   "name": "python",
   "nbconvert_exporter": "python",
   "pygments_lexer": "ipython3",
   "version": "3.13.5"
  }
 },
 "nbformat": 4,
 "nbformat_minor": 5
}
